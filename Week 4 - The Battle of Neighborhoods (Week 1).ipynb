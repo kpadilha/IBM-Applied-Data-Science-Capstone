{
 "cells": [
  {
   "cell_type": "markdown",
   "metadata": {},
   "source": [
    "# Coursera \"IBM Applied Data Science Capstone\" Project -- Week 4"
   ]
  },
  {
   "cell_type": "markdown",
   "metadata": {},
   "source": [
    "## Best Neighborhood to Operate a Restaurant in Amsterdam"
   ]
  },
  {
   "cell_type": "markdown",
   "metadata": {},
   "source": [
    "### Introduction:"
   ]
  },
  {
   "cell_type": "markdown",
   "metadata": {},
   "source": [
    "This project is a \"Capstone Project\" of Coursera - \"IBM Applied Data Science Capstone Course\" in the fourth/fifth weeks. In this project, we want to determine the best neighborhood in Amsterdam for the entrepreneurs to open a new restaurant. In the project, we tried to use most of the python scripts, libraries, virtualization of data, foursquare api.. etc. \n",
    "\n",
    "Please, pay attention!... It is only a capstone final project and it is not claimed that the result of the project is 100% proper for trade and investing industry. On the other hand, it can be helpful in the decision process for the entrepreneurs and/or give an idea to make a comprehensive project to researchers."
   ]
  },
  {
   "cell_type": "markdown",
   "metadata": {},
   "source": [
    "### Description and Background of the Problem:"
   ]
  },
  {
   "cell_type": "markdown",
   "metadata": {},
   "source": [
    "While starting the project, like in course duration, we decided to analyse an other famous, important and crowded city, Amsterdam. As we know Amsterdam is the capital city of Netherlands. We also learn from <a href=\"https://nl.wikipedia.org/wiki/Amsterdam\">wikipedia</a>; \"_the municipality of Amsterdam has 863,202 inhabitants (1 January 2019, CBS ). On the other hand, it is the fourth most visited city in Europe, around 17 million day trippers come to Amsterdam every year. Among the tourists are also many other museums , the coffee shops , __the restaurants__ and window prostitution in the Wallen (Red Light District) popular. The falling number of cafés is offset by a __sharply increasing number of restaurants since 2010__, not only in the center but also in the surrounding districts._\"\n",
    "\n",
    "As we know, choosing a neighborhood and location for a restaurant is an important and diffucult step for the entrepreneurs. Most of time it can be as crucial factor as menu quality and service for the restaurant's success. The neighborhood is not only an important factor for customers but also it affects the restaurant quality, including the menu, interior design, style of furnitures. \n",
    "\n",
    "So, the question (problem) is clear: <font color=red>Which neighborhood is suitable place for a new restaurant in Amsterdam?</font>\n",
    "\n",
    "For finding the answer of the question, first of all, we need the key factors of selecting the location for a restaurant. After making some search in open source (of course Google!), we found an article \n",
    "<a href=\"https://www.thebalancesmb.com/choosing-a-location-for-your-restaurant-2888635\">\"4 Important Factors When Choosing a Location to Open a Restaurant\"</a>. The article explain the 4 important factor shortly, which are;\n",
    "- __Parking__<br>\n",
    "A restaurant should has its own parking lot. If that isn’t an option (for example, in a major cities), consider partnering with a hotel in the area that has its own parking options. Also it has an acceptable distance to public parking lots.\n",
    "- __Accessibility__<br>\n",
    "There’s a reason that major restaurant chains are often located near highway exits: It makes them accessible for customers. Also it is a good option to close distance to public transportations. Light Rail Station, Metro Station, Train/Tram Station, Bus Stop around the restaurant is provide convenience for customers.\n",
    "- __Visibility__<br>\n",
    "This goes along with accessibility and is very important for new restaurant locations. People have to know the restaurant is there, either in person or on their mobile devices. \n",
    "- __Population Base__<br>\n",
    "There need to be enough people who live in or pass through the area regularly to keep the restaurant busy. So \"the particular area's population base\" is another important factor about suitable place for a new restaurant.\n",
    "\n",
    "As we mentioned before, Amsterdam has a very crowded city with huge number of tourists. So we can eliminate the fourth factor (Population Base). The third factor (Visibility) is not easy to keep in view, because it needs different type of data like usage density of every streets, frequently prefered routas and the prefered reason... etc. May be a field research is also needed. Anyway, because of the diffuculties, we focused on first two factors (Parking and Accessibility) and collected data about them."
   ]
  },
  {
   "cell_type": "markdown",
   "metadata": {},
   "source": [
    "### Description of the Data:"
   ]
  },
  {
   "cell_type": "markdown",
   "metadata": {},
   "source": [
    "For solving the problem, it is clear that we need different type of data. Which are: \n",
    "1. List of neighborhoods of Amsterdam\n",
    "2. Car Parking list and their geolocations of Amsterdam\n",
    "3. Light Rail/Metro/Train/Tram/Bus Station list and their geolocations of Amsterdam\n",
    "\n",
    "While searching in open source, we reach the \"Statistics Netherlands\" <a href=\"https://opendata.cbs.nl/#/CBS/en/navigatieScherm/thema\"> (Centraal Bureau voor de Statistiek-CBS)</a> web site, where publishes formal, regular statistical datasets in various issues. we got the first and fourth datasets from there.\n",
    "\n",
    "The second and third datasets are POI and it is easy to reach them by Foursquare API. So we tried to get the data via Foursquare API. \n",
    "\n",
    "The important disadvantage of API is the response limit of queries. In every query, the response of venues list limited as 100 result. So, we tried to send query with sub-categoryIDs of venues' <a href=\"https://developer.foursquare.com/docs/resources/categories\">(which is exist in Foursquare web site)</a> and update the dataframe with \"for loop\" easily. we explained this detail later also."
   ]
  }
 ],
 "metadata": {
  "kernelspec": {
   "display_name": "Python 3",
   "language": "python",
   "name": "python3"
  },
  "language_info": {
   "codemirror_mode": {
    "name": "ipython",
    "version": 3
   },
   "file_extension": ".py",
   "mimetype": "text/x-python",
   "name": "python",
   "nbconvert_exporter": "python",
   "pygments_lexer": "ipython3",
   "version": "3.7.1"
  }
 },
 "nbformat": 4,
 "nbformat_minor": 2
}
